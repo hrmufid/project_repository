{
 "cells": [
  {
   "cell_type": "code",
   "execution_count": 1,
   "id": "9f3370e3-9513-4dab-816a-99e9a660fe65",
   "metadata": {},
   "outputs": [
    {
     "name": "stdout",
     "output_type": "stream",
     "text": [
      "Hello Mufid\n"
     ]
    }
   ],
   "source": [
    "print('Hello Mufid') "
   ]
  },
  {
   "cell_type": "code",
   "execution_count": null,
   "id": "8657ed5e-95ae-473e-a768-f5baae7f11e4",
   "metadata": {},
   "outputs": [],
   "source": []
  }
 ],
 "metadata": {
  "kernelspec": {
   "display_name": "Python 3 (ipykernel)",
   "language": "python",
   "name": "python3"
  },
  "language_info": {
   "codemirror_mode": {
    "name": "ipython",
    "version": 3
   },
   "file_extension": ".py",
   "mimetype": "text/x-python",
   "name": "python",
   "nbconvert_exporter": "python",
   "pygments_lexer": "ipython3",
   "version": "3.9.13"
  }
 },
 "nbformat": 4,
 "nbformat_minor": 5
}
